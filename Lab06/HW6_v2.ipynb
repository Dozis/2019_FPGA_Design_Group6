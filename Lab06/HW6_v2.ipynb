{
 "cells": [
  {
   "cell_type": "markdown",
   "metadata": {},
   "source": [
    "## 將Bitstream File 燒錄至板子上"
   ]
  },
  {
   "cell_type": "code",
   "execution_count": 3,
   "metadata": {},
   "outputs": [
    {
     "name": "stderr",
     "output_type": "stream",
     "text": [
      "/usr/local/lib/python3.6/dist-packages/pynq/overlay.py:299: UserWarning: Users will not get PARAMETERS / REGISTERS information through TCL files. HWH file is recommended.\n",
      "  warnings.warn(message, UserWarning)\n"
     ]
    }
   ],
   "source": [
    "from pynq import Overlay\n",
    "Lab_Design = Overlay(\"./HW6_v2.bit\")"
   ]
  },
  {
   "cell_type": "markdown",
   "metadata": {},
   "source": [
    "## 從硬體檔案中讀取這個系統中的 AXI ADDRESS"
   ]
  },
  {
   "cell_type": "code",
   "execution_count": 4,
   "metadata": {},
   "outputs": [
    {
     "data": {
      "text/plain": [
       "{'convolution_0': {'addr_range': 65536,\n",
       "  'driver': pynq.overlay.DefaultIP,\n",
       "  'fullpath': 'convolution_0',\n",
       "  'gpio': {},\n",
       "  'interrupts': {},\n",
       "  'mem_id': 'SEG_convolution_0_S00_AXI_reg',\n",
       "  'phys_addr': 1136656384,\n",
       "  'state': None,\n",
       "  'type': 'xilinx.com:user:convolution:1.0'}}"
      ]
     },
     "execution_count": 4,
     "metadata": {},
     "output_type": "execute_result"
    }
   ],
   "source": [
    "Lab_Design.ip_dict"
   ]
  },
  {
   "cell_type": "markdown",
   "metadata": {},
   "source": [
    "## 取出 ADDER 這個 AXI IP 的 Base Address 以及 Address Range\n",
    "### 可以檢查這個地址是否和Vivado中 `Address Editor` 內 ADDER 的 Base Address 相同"
   ]
  },
  {
   "cell_type": "code",
   "execution_count": 7,
   "metadata": {},
   "outputs": [
    {
     "name": "stdout",
     "output_type": "stream",
     "text": [
      "The Base Address of convolution is : 43c00000\n",
      "The Address Range of convolution is : 10000\n"
     ]
    }
   ],
   "source": [
    "convolution_CON = Lab_Design.ip_dict['convolution_0']['phys_addr']\n",
    "convolution_CON_range = Lab_Design.ip_dict['convolution_0']['addr_range']\n",
    "print(\"The Base Address of convolution is : \" + format(convolution_CON, '02x'))\n",
    "print(\"The Address Range of convolution is : \" + format(convolution_CON_range, '02x'))"
   ]
  },
  {
   "cell_type": "markdown",
   "metadata": {},
   "source": [
    "## 使用Pynq 內建的 MMIO 以達成 PS 和 AXI IP 之間的溝通\n",
    "### MMIO(IP_BASE_ADDRESS, ADDRESS_RANGE)"
   ]
  },
  {
   "cell_type": "code",
   "execution_count": 8,
   "metadata": {},
   "outputs": [],
   "source": [
    "from pynq import MMIO\n",
    "convolution = MMIO(convolution_CON, convolution_CON_range)"
   ]
  },
  {
   "cell_type": "markdown",
   "metadata": {},
   "source": [
    "## 輸入加數及被加數，並做輸入資料的前處理"
   ]
  },
  {
   "cell_type": "code",
   "execution_count": 12,
   "metadata": {},
   "outputs": [],
   "source": [
    "x0 = 8\n",
    "x1 = 7\n",
    "x2 = 6\n",
    "x3 = 5\n",
    "w0 = 8\n",
    "w1 = 7\n",
    "w2 = 6\n",
    "w3 = 5\n",
    "b = 3\n",
    "input_data = x0 + (x1 << 4) + (x2 << 8) + (x3 << 12) + (w0 << 16) + (w1 << 20) + (w2 << 24) + (w3 << 28)"
   ]
  },
  {
   "cell_type": "markdown",
   "metadata": {},
   "source": [
    "## 將輸入資料寫進ADDER offset 為 0 的位置\n",
    "## 並從 offset 為 4 的位置讀出運算結果"
   ]
  },
  {
   "cell_type": "code",
   "execution_count": 13,
   "metadata": {},
   "outputs": [
    {
     "name": "stdout",
     "output_type": "stream",
     "text": [
      "The answer is  177\n"
     ]
    }
   ],
   "source": [
    "convolution.write(0x0, input_data)\n",
    "convolution.write(0x4, b)\n",
    "output = convolution.read(0x8)\n",
    "print(\"The answer is \", output)"
   ]
  },
  {
   "cell_type": "code",
   "execution_count": null,
   "metadata": {},
   "outputs": [],
   "source": []
  }
 ],
 "metadata": {
  "kernelspec": {
   "display_name": "Python 3",
   "language": "python",
   "name": "python3"
  },
  "language_info": {
   "codemirror_mode": {
    "name": "ipython",
    "version": 3
   },
   "file_extension": ".py",
   "mimetype": "text/x-python",
   "name": "python",
   "nbconvert_exporter": "python",
   "pygments_lexer": "ipython3",
   "version": "3.6.5"
  }
 },
 "nbformat": 4,
 "nbformat_minor": 2
}
